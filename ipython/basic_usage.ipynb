{
 "cells": [
  {
   "cell_type": "markdown",
   "metadata": {},
   "source": [
    "# Basic usage\n",
    "This notebook demonstrates basic usage of the mwreverts library.  "
   ]
  },
  {
   "cell_type": "markdown",
   "metadata": {},
   "source": [
    "## Detecting reverts in a sequence of page edits\n",
    "At the most basic, the library can detect reverts in a stream of \"revision\" events.  This is useful for finding out what reverts have taken place in a sequence of edits to a page.  In this case, we'll look at reverts in https://en.wikipedia.org/wiki/Wikipedia:Teahouse using the `detect` method.  This pattern is generally useful if you'd like to look for reverting activity for an entire page."
   ]
  },
  {
   "cell_type": "code",
   "execution_count": 1,
   "metadata": {
    "collapsed": true
   },
   "outputs": [],
   "source": [
    "import mwapi, mwreverts\n",
    "from itertools import islice  # For limiting the result set"
   ]
  },
  {
   "cell_type": "code",
   "execution_count": 2,
   "metadata": {
    "collapsed": false
   },
   "outputs": [
    {
     "name": "stdout",
     "output_type": "stream",
     "text": [
      "477059985 reverts [477059772] back to 477059735\n",
      "477108430 reverts [477095691, 477093506, 477090831, 477072862, 477067674, 477063205, 477059985, 477059772, 477059735, 477055557] back to 472895667\n",
      "477108510 reverts [477108430] back to 477095691\n",
      "478687134 reverts [478685482] back to 478665756\n",
      "479660766 reverts [479660552, 479658598] back to 479648108\n"
     ]
    }
   ],
   "source": [
    "# Gather a page's revisions from the API\n",
    "session = mwapi.Session(\"https://en.wikipedia.org\", user_agent=\"mwreverts basic usage script\")\n",
    "response_docs = session.get(action=\"query\",\n",
    "                            prop=\"revisions\",\n",
    "                            titles={\"Wikipedia:Teahouse\"},\n",
    "                            rvprop={'ids', 'sha1', 'timestamp'},\n",
    "                            rvdir=\"newer\",  # Direction \"newer\" is important for detection\n",
    "                            continuation=True)\n",
    "\n",
    "# Creates a revsion event iterator of (checksum, rev_doc) pairs\n",
    "rev_events = ((rev_doc['sha1'], rev_doc) \n",
    "              for r_doc in response_docs \n",
    "              for page_doc in r_doc['query']['pages'].values()\n",
    "              for rev_doc in page_doc['revisions']\n",
    "              if 'sha1' in rev_doc)\n",
    "\n",
    "# Detect and print reverts\n",
    "for revert in islice(mwreverts.detect(rev_events), 5):\n",
    "    print(\"{0} reverts {1} back to {2}\"\n",
    "          .format(revert.reverting['revid'],\n",
    "                  [rev_doc['revid'] for rev_doc in revert.reverteds],\n",
    "                  revert.reverted_to['revid']))"
   ]
  },
  {
   "cell_type": "markdown",
   "metadata": {},
   "source": [
    "## Checking the \"revert status\" of a single edit\n",
    "An edit can *reverting* other edits, it can be *reverted*, or it can be *reverted_to* by another edit.  The `mwreverts.api.check` method will use a `mwapi.Session` to check on the status of an edit by its `\"revid\"`.  This pattern is generally useful if you'd like to check on the status of a set of edits that span multiple pages.  For example, if you were looking at the activities of a particular user."
   ]
  },
  {
   "cell_type": "code",
   "execution_count": 3,
   "metadata": {
    "collapsed": true
   },
   "outputs": [],
   "source": [
    "import mwapi, mwreverts.api"
   ]
  },
  {
   "cell_type": "code",
   "execution_count": 4,
   "metadata": {
    "collapsed": false
   },
   "outputs": [
    {
     "name": "stdout",
     "output_type": "stream",
     "text": [
      "477059772:\n",
      " - reverted in 477059985 by Heatherawalls\n",
      "477059985:\n",
      " - reverting 1 other edits\n",
      " - reverted in 477108430 by AbigailAbernathy\n",
      "477059735:\n",
      " - reverted in 477108430 by AbigailAbernathy\n",
      " - reverted_to in 477059985 by Heatherawalls\n"
     ]
    }
   ],
   "source": [
    "# Gather a page's revisions from the API\n",
    "session = mwapi.Session(\"https://en.wikipedia.org\", user_agent=\"mwreverts basic usage script\")\n",
    "\n",
    "def print_revert_status(rev_id, reverting, reverted, reverted_to):\n",
    "    \"\"\"Prints a nice, pretty version of a revert status.\"\"\"\n",
    "    print(str(rev_id) + \":\")\n",
    "    if reverting is not None:\n",
    "        print(\" - reverting {0} other edits\".format(len(reverting.reverteds)))\n",
    "    if reverted is not None:\n",
    "        print(\" - reverted in {revid} by {user}\".format(**reverted.reverting))\n",
    "    if reverted_to is not None:\n",
    "        print(\" - reverted_to in {revid} by {user}\".format(**reverted_to.reverting))\n",
    "\n",
    "# Checking the status of 3 interesting edits seen above\n",
    "reverting, reverted, reverted_to = mwreverts.api.check(session, 477059772, rvprop={'user'})\n",
    "print_revert_status(477059772, reverting, reverted, reverted_to)\n",
    "reverting, reverted, reverted_to = mwreverts.api.check(session, 477059985, rvprop={'user'})\n",
    "print_revert_status(477059985, reverting, reverted, reverted_to)\n",
    "reverting, reverted, reverted_to = mwreverts.api.check(session, 477059735, rvprop={'user'})\n",
    "print_revert_status(477059735, reverting, reverted, reverted_to)"
   ]
  },
  {
   "cell_type": "code",
   "execution_count": null,
   "metadata": {
    "collapsed": true
   },
   "outputs": [],
   "source": []
  }
 ],
 "metadata": {
  "kernelspec": {
   "display_name": "Python 3",
   "language": "python",
   "name": "python3"
  },
  "language_info": {
   "codemirror_mode": {
    "name": "ipython",
    "version": 3
   },
   "file_extension": ".py",
   "mimetype": "text/x-python",
   "name": "python",
   "nbconvert_exporter": "python",
   "pygments_lexer": "ipython3",
   "version": "3.4.2"
  }
 },
 "nbformat": 4,
 "nbformat_minor": 1
}
